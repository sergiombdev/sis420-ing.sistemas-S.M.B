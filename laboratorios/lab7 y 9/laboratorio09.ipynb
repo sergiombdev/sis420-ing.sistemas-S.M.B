{
 "cells": [
  {
   "cell_type": "markdown",
   "metadata": {},
   "source": [
    "# Ejercicio de programación Regresión Lineal Multiple"
   ]
  },
  {
   "cell_type": "code",
   "execution_count": 152,
   "metadata": {},
   "outputs": [],
   "source": [
    "# %%\n",
    "# Alumno: Mendoza Benito Sergio\n",
    "# Carrera: Ingenieria de Sistemas\n",
    "# Grupo laboratorio: 9\n",
    "# Materia: sis420\n",
    "\n",
    "\n",
    "# A partir de un dataset que obtuvo de Kaggle.com aplique el cuadernillo para regresion lineal multiple\n",
    "# revisado en clase para lograr calcular los valores de theta y realizar las respectivas predicciones. \n",
    "# (Metodo del descenso por el gradiente y el metodo de la Normal).\n",
    "\n",
    "\n",
    "# Predicción de Hipertensión\n",
    "# Acerca del conjunto de datos\n",
    "# Este es un conjunto de datos limpio de más de 70,692 respuestas a la encuesta BRFSS2015 de los CDC. \n",
    "# Hay 18 variables características y 3 variables objetivo, Diabetes, Hipertensión y Accidente cerebrovascular,\n",
    "# cada variable objetivo tiene 2 clases. Este conjunto de datos está equilibrado.\n",
    "\n",
    "# Datos:\n",
    "\n",
    "# Age,\n",
    "# Sex,\n",
    "# HighChol,\n",
    "# CholCheck,\n",
    "# BMI,\n",
    "# Smoker,\n",
    "# HeartDiseaseorAttack,\n",
    "# PhysActivity,\n",
    "# Fruits,\n",
    "# Veggies,\n",
    "# HvyAlcoholConsump,\n",
    "# GenHlth,\n",
    "# MentHlth,\n",
    "# PhysHlth,\n",
    "# DiffWalk,\n",
    "\n",
    "# Diabetes,\n",
    "# Hypertension,\n",
    "# Stroke\n",
    "\n"
   ]
  },
  {
   "cell_type": "code",
   "execution_count": 153,
   "metadata": {},
   "outputs": [],
   "source": [
    "# utilizado para manejos de directorios y rutas\n",
    "import os\n",
    "\n",
    "# Computacion vectorial y cientifica para python\n",
    "import numpy as np\n",
    "\n",
    "# Librerias para graficación (trazado de gráficos)\n",
    "from matplotlib import pyplot\n",
    "from mpl_toolkits.mplot3d import Axes3D  # Necesario para graficar superficies 3D\n",
    "\n",
    "# llama a matplotlib a embeber graficas dentro de los cuadernillos\n",
    "%matplotlib inline"
   ]
  },
  {
   "cell_type": "markdown",
   "metadata": {},
   "source": [
    "## 2 Regresión lineal con multiples variables\n",
    "\n",
    "Se implementa la regresion lineal multivariable para predecir el precio de las casas. El archivo `Datasets/ex1data2.txt` contiene un conjunto de entrenamiento de precios de casas en Portland, Oregon. La primera columna es el tamaño de la casa en metros cuadrados, la segunda columna es el numero de cuartos, y la tercera columna es el precio de la casa. \n",
    "\n",
    "<a id=\"section4\"></a>\n",
    "### 2.1 Normalización de caracteristicas\n",
    "\n",
    "Al visualizar los datos se puede observar que las caracteristicas tienen diferentes magnitudes, por lo cual se debe transformar cada valor en una escala de valores similares, esto con el fin de que el descenso por el gradiente pueda converger mas rapidamente."
   ]
  },
  {
   "cell_type": "code",
   "execution_count": 154,
   "metadata": {},
   "outputs": [],
   "source": [
    "# Cargar datos\n",
    "data = np.loadtxt( os.path.join(\"health_data.csv\"), skiprows=1, delimiter = ',')\n",
    "X = data[:, :15]\n",
    "y = data[:, 16]\n",
    "m = y.size"
   ]
  },
  {
   "cell_type": "markdown",
   "metadata": {},
   "source": [
    "La desviación estándar es una forma de medir cuánta variación hay en el rango de valores de una característica en particular (la mayoría de los puntos caeran en un rango de ± 2 en relación a la desviaciones estándar de la media); esta es una alternativa a tomar el rango de valores (max-min). En `numpy`, se puede usar la función `std` para calcular la desviacion estandar. \n",
    "\n",
    "Por ejemplo, la caracteristica`X[:, 0]` contiene todos los valores de $x_1$ (tamaño de las casas) en el conjunto de entrenamiento, entonces `np.std(X[:, 0])` calcula la desviacion estandar de los tamaños de las casas.\n",
    "En el momento en que se llama a la función `featureNormalize`, la columna adicional de unos correspondiente a $ x_0 = 1 $ aún no se ha agregado a $ X $. \n",
    "\n",
    "<div class=\"alert alert-block alert-warning\">\n",
    "**Notas para la implementación:** Cuando se normalize una caracteristica, es importante almacenar los valores usados para la normalización - el valor de la media y el valor de la desviación estandar usado para los calculos. Despues de aprender los parametros del modelo, se deseara predecir los precios de casas que no se han visto antes. Dado un nuevo valor de x (area del living room y el numero de dormitorios), primero se debe normalizar x usando la media y la desviacion estandar que se empleo anteriormente en el conjunto de entrenamiento para entrenar el modelo.\n",
    "</div>\n",
    "<a id=\"featureNormalize\"></a>"
   ]
  },
  {
   "cell_type": "code",
   "execution_count": 155,
   "metadata": {},
   "outputs": [],
   "source": [
    "def  featureNormalize(X):\n",
    "    X_norm = X.copy()\n",
    "    mu = np.zeros(X.shape[1])\n",
    "    sigma = np.zeros(X.shape[1])\n",
    "\n",
    "    mu = np.mean(X, axis = 0)\n",
    "    sigma = np.std(X, axis = 0)\n",
    "    X_norm = (X - mu) / sigma\n",
    "    \n",
    "    return X_norm, mu, sigma"
   ]
  },
  {
   "cell_type": "code",
   "execution_count": 156,
   "metadata": {},
   "outputs": [
    {
     "name": "stdout",
     "output_type": "stream",
     "text": [
      "[[ 4.  1.  0. ...  5. 30.  0.]\n",
      " [12.  1.  1. ...  0.  0.  0.]\n",
      " [13.  1.  0. ...  0. 10.  0.]\n",
      " ...\n",
      " [13.  0.  1. ... 15.  0.  1.]\n",
      " [11.  0.  1. ...  0.  0.  1.]\n",
      " [ 9.  0.  1. ...  0.  0.  0.]]\n",
      "Media calculada: [ 8.58405477  0.45699655  0.52570305  0.97525887 29.85698523  0.47527302\n",
      "  0.14781022  0.7030357   0.61179483  0.78877384  0.04272053  2.83708199\n",
      "  3.75203701  5.81041702  0.25273015]\n",
      "Desviación estandar calculada: [ 2.85213294  0.49814727  0.49933892  0.15533514  7.11390353  0.4993882\n",
      "  0.35491176  0.45692067  0.48734168  0.40817848  0.20222633  1.11355664\n",
      "  8.15556887 10.06218936  0.43457752]\n",
      "[[-1.60723742  1.09004602 -1.05279808 ...  0.15301974  2.40400793\n",
      "  -0.58155367]\n",
      " [ 1.19768093  1.09004602  0.94984976 ... -0.46005828 -0.57745057\n",
      "  -0.58155367]\n",
      " [ 1.54829572  1.09004602 -1.05279808 ... -0.46005828  0.41636893\n",
      "  -0.58155367]\n",
      " ...\n",
      " [ 1.54829572 -0.91739246  0.94984976 ...  1.37917577 -0.57745057\n",
      "   1.71953175]\n",
      " [ 0.84706614 -0.91739246  0.94984976 ... -0.46005828 -0.57745057\n",
      "   1.71953175]\n",
      " [ 0.14583655 -0.91739246  0.94984976 ... -0.46005828 -0.57745057\n",
      "  -0.58155367]]\n"
     ]
    }
   ],
   "source": [
    "# llama featureNormalize con los datos cargados\n",
    "X_norm, mu, sigma = featureNormalize(X)\n",
    "\n",
    "print(X)\n",
    "print('Media calculada:', mu)\n",
    "print('Desviación estandar calculada:', sigma)\n",
    "print(X_norm)"
   ]
  },
  {
   "cell_type": "markdown",
   "metadata": {},
   "source": [
    "Despues de `featureNormalize` la funcion es provada, se añade el temino de interseccion a `X_norm`:"
   ]
  },
  {
   "cell_type": "code",
   "execution_count": 157,
   "metadata": {},
   "outputs": [],
   "source": [
    "# Añade el termino de interseccion a X\n",
    "# (Columna de unos para X0)\n",
    "X = np.concatenate([np.ones((m, 1)), X_norm], axis=1)"
   ]
  },
  {
   "cell_type": "code",
   "execution_count": 158,
   "metadata": {},
   "outputs": [
    {
     "name": "stdout",
     "output_type": "stream",
     "text": [
      "[[ 1.         -1.60723742  1.09004602 ...  0.15301974  2.40400793\n",
      "  -0.58155367]\n",
      " [ 1.          1.19768093  1.09004602 ... -0.46005828 -0.57745057\n",
      "  -0.58155367]\n",
      " [ 1.          1.54829572  1.09004602 ... -0.46005828  0.41636893\n",
      "  -0.58155367]\n",
      " ...\n",
      " [ 1.          1.54829572 -0.91739246 ...  1.37917577 -0.57745057\n",
      "   1.71953175]\n",
      " [ 1.          0.84706614 -0.91739246 ... -0.46005828 -0.57745057\n",
      "   1.71953175]\n",
      " [ 1.          0.14583655 -0.91739246 ... -0.46005828 -0.57745057\n",
      "  -0.58155367]]\n"
     ]
    }
   ],
   "source": [
    "print(X)"
   ]
  },
  {
   "cell_type": "markdown",
   "metadata": {},
   "source": [
    "<a id=\"section5\"></a>\n",
    "### 2.2 Descenso por el gradiente\n",
    "\n",
    "En el ejemplo anterior se implemento el descenso por el gradiente para un problema de regresion univariable. La unica diferencia es que ahora existe una caracteristica adicional en la matriz $X$. La función de hipótesis y la regla de actualización del descenso del gradiente por lotes permanecen sin cambios.\n",
    "\n",
    "La implementacion de las funciones `computeCostMulti` y `gradientDescentMulti` son similares a la funcion de costo y función de descenso por el gradiente de la regresión lineal multiple es similar al de la regresion lineal multivariable. Es importante garantizar que el codigo soporte cualquier numero de caracteristicas y esten bien vectorizadas.\n",
    "\n",
    "Se puede utilizar `shape`, propiedad de los arrays `numpy`, para identificar cuantas caracteristicas estan consideradas en el dataset.\n",
    "\n",
    "<div class=\"alert alert-block alert-warning\">\n",
    "**Nota de implementación:** En el caso de multivariables, la función de costo puede se escrita considerando la forma vectorizada de la siguiente manera:\n",
    "\n",
    "$$ J(\\theta) = \\frac{1}{2m}(X\\theta - \\vec{y})^T(X\\theta - \\vec{y}) $$\n",
    "\n",
    "donde:\n",
    "\n",
    "$$ X = \\begin{pmatrix}\n",
    "          - (x^{(1)})^T - \\\\\n",
    "          - (x^{(2)})^T - \\\\\n",
    "          \\vdots \\\\\n",
    "          - (x^{(m)})^T - \\\\ \\\\\n",
    "        \\end{pmatrix} \\qquad \\mathbf{y} = \\begin{bmatrix} y^{(1)} \\\\ y^{(2)} \\\\ \\vdots \\\\ y^{(m)} \\\\\\end{bmatrix}$$\n",
    "\n",
    "La version vectorizada es eficiente cuando se trabaja con herramientas de calculo numericos computacional como `numpy`. \n",
    "</div>\n",
    "\n",
    "<a id=\"computeCostMulti\"></a>"
   ]
  },
  {
   "cell_type": "code",
   "execution_count": 159,
   "metadata": {},
   "outputs": [],
   "source": [
    "def computeCostMulti(X, y, theta):\n",
    "    # Inicializa algunos valores utiles\n",
    "    m = y.shape[0] # numero de ejemplos de entrenamiento\n",
    "    \n",
    "    J = 0\n",
    "    \n",
    "    h = np.dot(X, theta)\n",
    "    \n",
    "    J = (1/(2 * m)) * np.sum(np.square(np.dot(X, theta) - y))\n",
    "    \n",
    "    return J\n"
   ]
  },
  {
   "cell_type": "code",
   "execution_count": 160,
   "metadata": {},
   "outputs": [],
   "source": [
    "def gradientDescentMulti(X, y, theta, alpha, num_iters):\n",
    "    \n",
    "    # Inicializa algunos valores \n",
    "    m = y.shape[0] # numero de ejemplos de entrenamiento\n",
    "    \n",
    "    # realiza una copia de theta, el cual será acutalizada por el descenso por el gradiente\n",
    "    theta = theta.copy()\n",
    "    \n",
    "    J_history = []\n",
    "    \n",
    "    for i in range(num_iters):\n",
    "        theta = theta - (alpha / m) * (np.dot(X, theta) - y).dot(X)\n",
    "        J_history.append(computeCostMulti(X, y, theta))\n",
    "    \n",
    "    return theta, J_history"
   ]
  },
  {
   "cell_type": "markdown",
   "metadata": {},
   "source": [
    "#### 3.2.1 Seleccionando coheficientes de aprendizaje\n"
   ]
  },
  {
   "cell_type": "code",
   "execution_count": 161,
   "metadata": {},
   "outputs": [
    {
     "name": "stdout",
     "output_type": "stream",
     "text": [
      "theta calculado por el descenso por el gradiente: [ 0.56343406  0.12703169  0.01760045  0.08662547  0.02095261  0.08508684\n",
      "  0.00086806  0.02801027 -0.00428116 -0.00351206 -0.00866127  0.00771892\n",
      "  0.08377234  0.00114546 -0.01119847  0.01416211]\n",
      "\n",
      "\n",
      "La probabilidad de poseer hipertencion es del : 76.00106601170786 %\n"
     ]
    },
    {
     "data": {
      "image/png": "[encoded data removed]",
      "text/plain": [
       "<Figure size 640x480 with 1 Axes>"
      ]
     },
     "metadata": {},
     "output_type": "display_data"
    }
   ],
   "source": [
    "# Elegir algun valor para alpha (probar varias alternativas)\n",
    "alpha = 0.01\n",
    "num_iters = 1000\n",
    "\n",
    "# inicializa theta y ejecuta el descenso por el gradiente\n",
    "theta = np.zeros(16)\n",
    "theta, J_history = gradientDescentMulti(X, y, theta, alpha, num_iters)\n",
    "\n",
    "# Grafica la convergencia del costo\n",
    "pyplot.plot(np.arange(len(J_history)), J_history, lw=2)\n",
    "pyplot.xlabel('Numero de iteraciones')\n",
    "pyplot.ylabel('Costo J')\n",
    "\n",
    "# Muestra los resultados del descenso por el gradiente\n",
    "print('theta calculado por el descenso por el gradiente: {:s}'.format(str(theta)))\n",
    "\n",
    "# predecir si una persona con las sgt caracteristicas sufre hipertencion:\n",
    "# Age = 9, (1 = 18-24, 9 = 60-64, 13 = 80 o más)\n",
    "# Sex = 1, <- masculino\n",
    "# HighChol = 1, <- verdadero\n",
    "# CholCheck = 1, <- verdadero\n",
    "# BMI = 21, masa corporal\n",
    "# Smoker=1, <- verdadero\n",
    "# HeartDiseaseorAttack = 0, <- falso\n",
    "# PhysActivity = 0, <- falso\n",
    "# Fruits = 0, <- falso\n",
    "# Veggies = 0, <- falso\n",
    "# HvyAlcoholConsump = 0, <- falso\n",
    "# GenHlth = 5, (escala 1-5) 1 = excelente, 2 = muy buena, 3 = buena, 4 = regular, 5 = mala\n",
    "# MentHlth = 30, días de mala salud mental escala 1-30 días\n",
    "# PhysHlth = 30, días de enfermedad o lesión física en los últimos 30 días escala 1-30\n",
    "# DiffWalk = 1, <- verdadero\n",
    "\n",
    "\n",
    "X_array = [1.0, 9.0,1.0,1.0,1.0,21.0,1.0,0.0,0.0,0.0,0.0,0.0,5.0,30.0,30.0,1.0]\n",
    "X_array[1:16] = (X_array[1:16] - mu) / sigma\n",
    "result = np.dot(X_array, theta)\n",
    "\n",
    "print(\"\\n\")\n",
    "print(\"La probabilidad de poseer hipertencion es del : \"+ str( result*100 ) + \" %\")"
   ]
  },
  {
   "cell_type": "code",
   "execution_count": 162,
   "metadata": {},
   "outputs": [],
   "source": [
    "X_array = [1.0, 8.0,0.0,1.0,1.0,47.0,0.0,1.0,1.0,1.0,1.0,0.0,4.0,0.0,15.0,1.0]\n",
    "X_array[1:16] = (X_array[1:16] - mu) / sigma"
   ]
  },
  {
   "cell_type": "code",
   "execution_count": 163,
   "metadata": {},
   "outputs": [
    {
     "data": {
      "text/plain": [
       "[-0.20477824342786707,\n",
       " -0.9173924568679293,\n",
       " 0.9498497608849312,\n",
       " 0.15927580766576485,\n",
       " 2.4097901643296757,\n",
       " -0.9517105400064697,\n",
       " 2.401131420553267,\n",
       " 0.6499252766655044,\n",
       " 0.7965769909694069,\n",
       " 0.5174848121890014,\n",
       " -0.21125109341939605,\n",
       " 1.0443276685470386,\n",
       " -0.4600582823575494,\n",
       " 0.9132786762227029,\n",
       " 1.7195317480187677]"
      ]
     },
     "execution_count": 163,
     "metadata": {},
     "output_type": "execute_result"
    }
   ],
   "source": [
    "X_array[1:16]"
   ]
  },
  {
   "cell_type": "markdown",
   "metadata": {},
   "source": [
    "<a id=\"section7\"></a>\n",
    "### 2.3 Ecuacion de la Normal\n",
    "\n",
    "Una manera de calcular rapidamente el modelo de una regresion lineal es:\n",
    "\n",
    "$$ \\theta = \\left( X^T X\\right)^{-1} X^T\\vec{y}$$\n",
    "\n",
    "Utilizando esta formula no requiere que se escale ninguna caracteristica, y se obtendra una solucion exacta con un solo calculo: no hay “bucles de convergencia” como en el descenso por el gradiente. \n",
    "\n",
    "Primero se recargan los datos para garantizar que las variables no esten modificadas. Recordar que no es necesario escalar las caracteristicas, se debe agregar la columna de unos a la matriz $X$ para tener el termino de intersección($\\theta_0$). "
   ]
  },
  {
   "cell_type": "code",
   "execution_count": 164,
   "metadata": {},
   "outputs": [],
   "source": [
    "# Cargar datos\n",
    "data = np.loadtxt( os.path.join(\"health_data.csv\"), skiprows=1, delimiter = ',')\n",
    "X = data[:, :15]\n",
    "y = data[:, 16]\n",
    "m = y.size\n",
    "X = np.concatenate([np.ones((m, 1)), X], axis=1)"
   ]
  },
  {
   "cell_type": "code",
   "execution_count": 165,
   "metadata": {},
   "outputs": [],
   "source": [
    "def normalEqn(X, y):\n",
    "  \n",
    "    theta = np.zeros(X.shape[1])\n",
    "    \n",
    "    theta = np.dot(np.dot(np.linalg.inv(np.dot(X.T,X)),X.T),y)\n",
    "    \n",
    "    return theta"
   ]
  },
  {
   "cell_type": "code",
   "execution_count": 166,
   "metadata": {},
   "outputs": [
    {
     "name": "stdout",
     "output_type": "stream",
     "text": [
      "Theta calculado a partir de la ecuación de la normal: [-6.18086396e-01  4.45774867e-02  3.53481737e-02  1.73258487e-01\n",
      "  1.34766015e-01  1.19588370e-02  1.66848262e-03  7.87175877e-02\n",
      " -9.30446244e-03 -7.19125400e-03 -2.11603978e-02  3.82771293e-02\n",
      "  7.56641431e-02  1.53949890e-04 -1.14960829e-03  3.23311382e-02]\n",
      "\n",
      "\n",
      "La probabilidad de poseer hipertencion es del : 76.00698212642828 %\n"
     ]
    }
   ],
   "source": [
    "# Calcula los parametros con la ecuación de la normal\n",
    "theta = normalEqn(X, y);\n",
    "\n",
    "# Muestra los resultados optenidos a partir de la aplicación de la ecuación de la normal\n",
    "print('Theta calculado a partir de la ecuación de la normal: {:s}'.format(str(theta)));\n",
    "\n",
    "# predecir si una persona con las sgt caracteristicas sufre hipertencion:\n",
    "# Age = 9, (1 = 18-24, 9 = 60-64, 13 = 80 o más)\n",
    "# Sex = 1, <- masculino\n",
    "# HighChol = 1, <- verdadero\n",
    "# CholCheck = 1, <- verdadero\n",
    "# BMI = 21, masa corporal\n",
    "# Smoker=1, <- verdadero\n",
    "# HeartDiseaseorAttack = 0, <- falso\n",
    "# PhysActivity = 0, <- falso\n",
    "# Fruits = 0, <- falso\n",
    "# Veggies = 0, <- falso\n",
    "# HvyAlcoholConsump = 0, <- falso\n",
    "# GenHlth = 5, (escala 1-5) 1 = excelente, 2 = muy buena, 3 = buena, 4 = regular, 5 = mala\n",
    "# MentHlth = 30, días de mala salud mental escala 1-30 días\n",
    "# PhysHlth = 30, días de enfermedad o lesión física en los últimos 30 días escala 1-30\n",
    "# DiffWalk = 1, <- verdadero\n",
    "\n",
    "X_array = [1.0, 9.0,1.0,1.0,1.0,21.0,1.0,0.0,0.0,0.0,0.0,0.0,5.0,30.0,30.0,1.0]\n",
    "result = np.dot(X_array, theta) \n",
    "\n",
    "print(\"\\n\")\n",
    "print(\"La probabilidad de poseer hipertencion es del : \"+ str( result*100 ) + \" %\")"
   ]
  }
 ],
 "metadata": {
  "kernelspec": {
   "display_name": "Python 3.9.12 ('base')",
   "language": "python",
   "name": "python3"
  },
  "language_info": {
   "codemirror_mode": {
    "name": "ipython",
    "version": 3
   },
   "file_extension": ".py",
   "mimetype": "text/x-python",
   "name": "python",
   "nbconvert_exporter": "python",
   "pygments_lexer": "ipython3",
   "version": "3.9.12"
  },
  "vscode": {
   "interpreter": {
    "hash": "5f1de7d2f8b2ea13c275b55a1a168baa6b4c6d64260a02c6ee9ee64f3ff538fa"
   }
  }
 },
 "nbformat": 4,
 "nbformat_minor": 2
}
