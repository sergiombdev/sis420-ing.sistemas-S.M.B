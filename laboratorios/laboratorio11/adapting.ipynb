{
 "cells": [
  {
   "cell_type": "code",
   "execution_count": 44,
   "metadata": {},
   "outputs": [],
   "source": [
    "import pandas as pd"
   ]
  },
  {
   "cell_type": "code",
   "execution_count": 45,
   "metadata": {},
   "outputs": [
    {
     "name": "stdout",
     "output_type": "stream",
     "text": [
      "    Age  Sex  HighChol  CholCheck   BMI  Smoker  HeartDiseaseorAttack  \\\n",
      "0   4.0  1.0       0.0        1.0  26.0     0.0                   0.0   \n",
      "1  12.0  1.0       1.0        1.0  26.0     1.0                   0.0   \n",
      "2  13.0  1.0       0.0        1.0  26.0     0.0                   0.0   \n",
      "3  11.0  1.0       1.0        1.0  28.0     1.0                   0.0   \n",
      "4   8.0  0.0       0.0        1.0  29.0     1.0                   0.0   \n",
      "\n",
      "   PhysActivity  Fruits  Veggies  HvyAlcoholConsump  GenHlth  MentHlth  \\\n",
      "0           1.0     0.0      1.0                0.0      3.0       5.0   \n",
      "1           0.0     1.0      0.0                0.0      3.0       0.0   \n",
      "2           1.0     1.0      1.0                0.0      1.0       0.0   \n",
      "3           1.0     1.0      1.0                0.0      3.0       0.0   \n",
      "4           1.0     1.0      1.0                0.0      2.0       0.0   \n",
      "\n",
      "   PhysHlth  DiffWalk  Diabetes  Hypertension  Stroke  Y  \n",
      "0      30.0       0.0       0.0           1.0     0.0  0  \n",
      "1       0.0       0.0       0.0           1.0     1.0  1  \n",
      "2      10.0       0.0       0.0           0.0     0.0  2  \n",
      "3       3.0       0.0       0.0           1.0     0.0  0  \n",
      "4       0.0       0.0       0.0           0.0     0.0  2  \n"
     ]
    }
   ],
   "source": [
    "def csvAdapted(path, outPath, columns):\n",
    "    data = pd.read_csv(path, encoding='latin-1')\n",
    "\n",
    "    newDataSet = pd.DataFrame()\n",
    "    for name, convert in columns:\n",
    "        if convert:\n",
    "            value = list( data[name].unique() )\n",
    "            newDataSet[name] = data[name].map( dict( zip( value,  [i for i in range( len(value) ) ] ) ) )\n",
    "        else:\n",
    "            newDataSet[name] = data[name]\n",
    "\n",
    "\n",
    "    # res = newDataSet.to_numpy().flatten()\n",
    "    # newDataSet['Y'] = data.Diabetes.astype(str)+\"-\"+ data.Hypertension.astype(str) +\"-\"+ data.Stroke.astype(str)\n",
    "\n",
    "    newDataSet.to_csv(outPath, index=False)\n",
    "\n",
    "    print(newDataSet.head())\n",
    "\n",
    "\n",
    "csvAdapted(\"health_data_new.csv\", \"new_health_data.csv\", [ \n",
    "    [\"Age\", False],\n",
    "    [\"Sex\", False],\n",
    "    [\"HighChol\", False],\n",
    "    [\"CholCheck\", False],\n",
    "    [\"BMI\", False],\n",
    "    [\"Smoker\", False],\n",
    "    [\"HeartDiseaseorAttack\", False],\n",
    "    [\"PhysActivity\", False],\n",
    "    [\"Fruits\", False],\n",
    "    [\"Veggies\", False],\n",
    "    [\"HvyAlcoholConsump\", False],\n",
    "    [\"GenHlth\", False],\n",
    "    [\"MentHlth\", False],\n",
    "    [\"PhysHlth\", False],\n",
    "    [\"DiffWalk\", False],\n",
    "    [\"Diabetes\", False],\n",
    "    [\"Hypertension\", False],\n",
    "    [\"Stroke\", False],\n",
    "    [\"Y\", True],\n",
    "])"
   ]
  }
 ],
 "metadata": {
  "kernelspec": {
   "display_name": "Python 3.9.12 ('base')",
   "language": "python",
   "name": "python3"
  },
  "language_info": {
   "codemirror_mode": {
    "name": "ipython",
    "version": 3
   },
   "file_extension": ".py",
   "mimetype": "text/x-python",
   "name": "python",
   "nbconvert_exporter": "python",
   "pygments_lexer": "ipython3",
   "version": "3.9.12"
  },
  "orig_nbformat": 4,
  "vscode": {
   "interpreter": {
    "hash": "5f1de7d2f8b2ea13c275b55a1a168baa6b4c6d64260a02c6ee9ee64f3ff538fa"
   }
  }
 },
 "nbformat": 4,
 "nbformat_minor": 2
}
