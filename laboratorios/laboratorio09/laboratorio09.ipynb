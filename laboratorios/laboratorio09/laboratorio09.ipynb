{
 "cells": [
  {
   "cell_type": "markdown",
   "metadata": {},
   "source": [
    "# Ejercicio de programación Regresión Lineal Multiple"
   ]
  },
  {
   "cell_type": "code",
   "execution_count": 46,
   "metadata": {},
   "outputs": [],
   "source": [
    "# %%\n",
    "# https://github.com/sergiombdev/sis420-ing.sistemas-S.M.B/tree/master/laboratorios/laboratorio09\n",
    "\n",
    "# Alumno: Mendoza Benito Sergio\n",
    "# Carrera: Ingenieria de Sistemas\n",
    "# Grupo laboratorio: 09\n",
    "# Materia: sis420\n",
    "\n",
    "# Desarrollar lo siguiente:\n",
    "# Al dataset asignado aleatoriamente, aplicar el cuadernillo empleado en clase para regresiones lineales multiples y \n",
    "# aplicar el mismo para identificar,\n",
    "\n",
    "# los mejores valores de thetha, \n",
    "# el menor valor de la funcion de costo, \n",
    "# el numero de iteraciones suficientes para alcanzar los valores ideales de theta,\n",
    "# el mejor valor de alfa (coheficiente de aprendizaje) \n",
    "# y realizar la grafica del comportamiento del costo en funcion al numero de iteraciones y \n",
    "\n",
    "# verificar los resultado con la ecuacion de la normal.\n",
    "# Se debe incluir el codigo y la direccion del repositorio empleado de manera obligatoria.\n",
    "\n",
    "# un dataset con al menos m > 200 y n > 5 relacionado a algun fenomeno o comportamiento que se pueda representar por una regresion \n",
    "# logistica, a partir del codigo fuente utilizado en clase genera el respetivo modelo.\n",
    "\n",
    "\n",
    "# resultados:\n",
    "\n",
    "# los mejores valores de thetha: [1123.68699156   79.22706989  -60.28850833  151.50574595  103.82385412 68.3613626   28.47357364  -80.0292924    52.93284359   28.34601624  -28.00208839  158.91956151]\n",
    "# el menor valor de la funcion de costo: 188480.64944087426\n",
    "# el numero de iteraciones suficientes para alcanzar los valores ideales de theta: 500\n",
    "# el mejor valor de alfa (coheficiente de aprendizaje): 0.8\n",
    "\n"
   ]
  },
  {
   "cell_type": "code",
   "execution_count": 47,
   "metadata": {},
   "outputs": [],
   "source": [
    "# utilizado para manejos de directorios y rutas\n",
    "import os\n",
    "\n",
    "# Computacion vectorial y cientifica para python\n",
    "import numpy as np\n",
    "\n",
    "# Librerias para graficación (trazado de gráficos)\n",
    "from matplotlib import pyplot\n",
    "from mpl_toolkits.mplot3d import Axes3D  # Necesario para graficar superficies 3D\n",
    "\n",
    "# llama a matplotlib a embeber graficas dentro de los cuadernillos\n",
    "%matplotlib inline"
   ]
  },
  {
   "cell_type": "markdown",
   "metadata": {},
   "source": [
    "## 2 Regresión lineal con multiples variables\n",
    "\n",
    "Se implementa la regresion lineal multivariable para predecir el precio de las casas. El archivo `Datasets/ex1data2.txt` contiene un conjunto de entrenamiento de precios de casas en Portland, Oregon. La primera columna es el tamaño de la casa en metros cuadrados, la segunda columna es el numero de cuartos, y la tercera columna es el precio de la casa. \n",
    "\n",
    "<a id=\"section4\"></a>\n",
    "### 2.1 Normalización de caracteristicas\n",
    "\n",
    "Al visualizar los datos se puede observar que las caracteristicas tienen diferentes magnitudes, por lo cual se debe transformar cada valor en una escala de valores similares, esto con el fin de que el descenso por el gradiente pueda converger mas rapidamente."
   ]
  },
  {
   "cell_type": "code",
   "execution_count": 48,
   "metadata": {},
   "outputs": [],
   "source": [
    "# Cargar datos\n",
    "data = np.loadtxt( os.path.join(\"laptop_price_adapted.csv\"), skiprows=1, delimiter = ',')\n",
    "\n",
    "X = data[:, :11]\n",
    "y = data[:, 11]\n",
    "m = y.size"
   ]
  },
  {
   "cell_type": "markdown",
   "metadata": {},
   "source": [
    "La desviación estándar es una forma de medir cuánta variación hay en el rango de valores de una característica en particular (la mayoría de los puntos caeran en un rango de ± 2 en relación a la desviaciones estándar de la media); esta es una alternativa a tomar el rango de valores (max-min). En `numpy`, se puede usar la función `std` para calcular la desviacion estandar. \n",
    "\n",
    "Por ejemplo, la caracteristica`X[:, 0]` contiene todos los valores de $x_1$ (tamaño de las casas) en el conjunto de entrenamiento, entonces `np.std(X[:, 0])` calcula la desviacion estandar de los tamaños de las casas.\n",
    "En el momento en que se llama a la función `featureNormalize`, la columna adicional de unos correspondiente a $ x_0 = 1 $ aún no se ha agregado a $ X $. \n",
    "\n",
    "<div class=\"alert alert-block alert-warning\">\n",
    "**Notas para la implementación:** Cuando se normalize una caracteristica, es importante almacenar los valores usados para la normalización - el valor de la media y el valor de la desviación estandar usado para los calculos. Despues de aprender los parametros del modelo, se deseara predecir los precios de casas que no se han visto antes. Dado un nuevo valor de x (area del living room y el numero de dormitorios), primero se debe normalizar x usando la media y la desviacion estandar que se empleo anteriormente en el conjunto de entrenamiento para entrenar el modelo.\n",
    "</div>\n",
    "<a id=\"featureNormalize\"></a>"
   ]
  },
  {
   "cell_type": "code",
   "execution_count": 49,
   "metadata": {},
   "outputs": [],
   "source": [
    "def  featureNormalize(X):\n",
    "    X_norm = X.copy()\n",
    "    mu = np.zeros(X.shape[1])\n",
    "    sigma = np.zeros(X.shape[1])\n",
    "\n",
    "    mu = np.mean(X, axis = 0)\n",
    "    sigma = np.std(X, axis = 0)\n",
    "    X_norm = (X - mu) / sigma\n",
    "    \n",
    "    return X_norm, mu, sigma"
   ]
  },
  {
   "cell_type": "code",
   "execution_count": 50,
   "metadata": {},
   "outputs": [
    {
     "name": "stdout",
     "output_type": "stream",
     "text": [
      "[[  0.   0.   0. ...   0.   0.   0.]\n",
      " [  0.   1.   0. ...   1.   0.   1.]\n",
      " [  1.   2.   1. ...   2.   1.   2.]\n",
      " ...\n",
      " [  5. 342.   1. ...  20.   2.  46.]\n",
      " [  1. 616.   1. ... 101.   2.  95.]\n",
      " [  3. 617.   1. ...  20.   2.   8.]]\n",
      "Media calculada: [  3.90790483 226.95855718   1.55103607   2.40905602   5.66922487\n",
      "  28.07290867   1.1143515    5.49347659  20.9600921    2.37068304\n",
      "  50.43745203]\n",
      "Desviación estandar calculada: [  2.75069915 184.33255959   1.29890328   2.64661749   6.2522098\n",
      "  26.28774119   1.39287785   5.30321544  22.12487973   1.42231964\n",
      "  45.00248695]\n",
      "[[-1.42069511 -1.23124508 -1.19411206 ... -0.94735395 -1.66677234\n",
      "  -1.12077033]\n",
      " [-1.42069511 -1.2258201  -1.19411206 ... -0.90215596 -1.66677234\n",
      "  -1.09854933]\n",
      " [-1.05715117 -1.22039513 -0.4242318  ... -0.85695797 -0.9636955\n",
      "  -1.07632834]\n",
      " ...\n",
      " [ 0.39702458  0.62409725 -0.4242318  ... -0.04339423 -0.26061866\n",
      "  -0.0986046 ]\n",
      " [-1.05715117  2.1105411  -0.4242318  ...  3.61764262 -0.26061866\n",
      "   0.99022412]\n",
      " [-0.3300633   2.11596608 -0.4242318  ... -0.04339423 -0.26061866\n",
      "  -0.94300237]]\n"
     ]
    }
   ],
   "source": [
    "# llama featureNormalize con los datos cargados\n",
    "X_norm, mu, sigma = featureNormalize(X)\n",
    "\n",
    "print(X)\n",
    "print('Media calculada:', mu)\n",
    "print('Desviación estandar calculada:', sigma)\n",
    "print(X_norm)"
   ]
  },
  {
   "cell_type": "markdown",
   "metadata": {},
   "source": [
    "Despues de `featureNormalize` la funcion es provada, se añade el temino de interseccion a `X_norm`:"
   ]
  },
  {
   "cell_type": "code",
   "execution_count": 51,
   "metadata": {},
   "outputs": [],
   "source": [
    "# Añade el termino de interseccion a X\n",
    "# (Columna de unos para X0)\n",
    "X = np.concatenate([np.ones((m, 1)), X_norm], axis=1)"
   ]
  },
  {
   "cell_type": "code",
   "execution_count": 52,
   "metadata": {},
   "outputs": [
    {
     "name": "stdout",
     "output_type": "stream",
     "text": [
      "[[ 1.         -1.42069511 -1.23124508 ... -0.94735395 -1.66677234\n",
      "  -1.12077033]\n",
      " [ 1.         -1.42069511 -1.2258201  ... -0.90215596 -1.66677234\n",
      "  -1.09854933]\n",
      " [ 1.         -1.05715117 -1.22039513 ... -0.85695797 -0.9636955\n",
      "  -1.07632834]\n",
      " ...\n",
      " [ 1.          0.39702458  0.62409725 ... -0.04339423 -0.26061866\n",
      "  -0.0986046 ]\n",
      " [ 1.         -1.05715117  2.1105411  ...  3.61764262 -0.26061866\n",
      "   0.99022412]\n",
      " [ 1.         -0.3300633   2.11596608 ... -0.04339423 -0.26061866\n",
      "  -0.94300237]]\n"
     ]
    }
   ],
   "source": [
    "print(X)"
   ]
  },
  {
   "cell_type": "markdown",
   "metadata": {},
   "source": [
    "<a id=\"section5\"></a>\n",
    "### 2.2 Descenso por el gradiente\n",
    "\n",
    "En el ejemplo anterior se implemento el descenso por el gradiente para un problema de regresion univariable. La unica diferencia es que ahora existe una caracteristica adicional en la matriz $X$. La función de hipótesis y la regla de actualización del descenso del gradiente por lotes permanecen sin cambios.\n",
    "\n",
    "La implementacion de las funciones `computeCostMulti` y `gradientDescentMulti` son similares a la funcion de costo y función de descenso por el gradiente de la regresión lineal multiple es similar al de la regresion lineal multivariable. Es importante garantizar que el codigo soporte cualquier numero de caracteristicas y esten bien vectorizadas.\n",
    "\n",
    "Se puede utilizar `shape`, propiedad de los arrays `numpy`, para identificar cuantas caracteristicas estan consideradas en el dataset.\n",
    "\n",
    "<div class=\"alert alert-block alert-warning\">\n",
    "**Nota de implementación:** En el caso de multivariables, la función de costo puede se escrita considerando la forma vectorizada de la siguiente manera:\n",
    "\n",
    "$$ J(\\theta) = \\frac{1}{2m}(X\\theta - \\vec{y})^T(X\\theta - \\vec{y}) $$\n",
    "\n",
    "donde:\n",
    "\n",
    "$$ X = \\begin{pmatrix}\n",
    "          - (x^{(1)})^T - \\\\\n",
    "          - (x^{(2)})^T - \\\\\n",
    "          \\vdots \\\\\n",
    "          - (x^{(m)})^T - \\\\ \\\\\n",
    "        \\end{pmatrix} \\qquad \\mathbf{y} = \\begin{bmatrix} y^{(1)} \\\\ y^{(2)} \\\\ \\vdots \\\\ y^{(m)} \\\\\\end{bmatrix}$$\n",
    "\n",
    "La version vectorizada es eficiente cuando se trabaja con herramientas de calculo numericos computacional como `numpy`. \n",
    "</div>\n",
    "\n",
    "<a id=\"computeCostMulti\"></a>"
   ]
  },
  {
   "cell_type": "code",
   "execution_count": 53,
   "metadata": {},
   "outputs": [],
   "source": [
    "def computeCostMulti(X, y, theta):\n",
    "    # Inicializa algunos valores utiles\n",
    "    m = y.shape[0] # numero de ejemplos de entrenamiento\n",
    "    \n",
    "    J = 0\n",
    "    \n",
    "    h = np.dot(X, theta)\n",
    "    \n",
    "    J = (1/(2 * m)) * np.sum(np.square(np.dot(X, theta) - y))\n",
    "    \n",
    "    return J\n"
   ]
  },
  {
   "cell_type": "code",
   "execution_count": 54,
   "metadata": {},
   "outputs": [],
   "source": [
    "def gradientDescentMulti(X, y, theta, alpha, num_iters):\n",
    "    \n",
    "    # Inicializa algunos valores \n",
    "    m = y.shape[0] # numero de ejemplos de entrenamiento\n",
    "    \n",
    "    # realiza una copia de theta, el cual será acutalizada por el descenso por el gradiente\n",
    "    theta = theta.copy()\n",
    "    \n",
    "    J_history = []\n",
    "    \n",
    "    for i in range(num_iters):\n",
    "        theta = theta - (alpha / m) * (np.dot(X, theta) - y).dot(X)\n",
    "        J_history.append(computeCostMulti(X, y, theta))\n",
    "    \n",
    "    return theta, J_history"
   ]
  },
  {
   "cell_type": "markdown",
   "metadata": {},
   "source": [
    "#### 3.2.1 Seleccionando coheficientes de aprendizaje\n"
   ]
  },
  {
   "cell_type": "code",
   "execution_count": 55,
   "metadata": {},
   "outputs": [
    {
     "name": "stdout",
     "output_type": "stream",
     "text": [
      "costo min calculado : 188480.64944087426\n",
      "theta calculado por el descenso por el gradiente: [1123.68699156   79.22706989  -60.28850833  151.50574595  103.82385412\n",
      "   68.3613626    28.47357364  -80.0292924    52.93284359   28.34601624\n",
      "  -28.00208839  158.91956151]\n",
      "\n",
      "\n",
      "El precio : 1774.4011797472717 Euros.\n",
      "El precio : 777.2003169577155 Euros.\n"
     ]
    },
    {
     "data": {
      "image/png": "[encoded data removed]",
      "text/plain": [
       "<Figure size 640x480 with 1 Axes>"
      ]
     },
     "metadata": {},
     "output_type": "display_data"
    }
   ],
   "source": [
    "# Elegir algun valor para alpha (probar varias alternativas)\n",
    "alpha = 0.8\n",
    "num_iters = 500\n",
    "\n",
    "# alpha = 0.001\n",
    "# num_iters = 30000\n",
    "\n",
    "# inicializa theta y ejecuta el descenso por el gradiente\n",
    "theta = np.zeros(12)\n",
    "theta, J_history = gradientDescentMulti(X, y, theta, alpha, num_iters)\n",
    "\n",
    "# Grafica la convergencia del costo\n",
    "pyplot.plot(np.arange(len(J_history)), J_history, lw=2)\n",
    "pyplot.xlabel('Numero de iteraciones')\n",
    "pyplot.ylabel('Costo J')\n",
    "\n",
    "print(\"costo min calculado : \"+str(J_history[-1]))\n",
    "\n",
    "# Muestra los resultados del descenso por el gradiente\n",
    "print('theta calculado por el descenso por el gradiente: {:s}'.format(str(theta)))\n",
    "\n",
    "\n",
    "X_array = [1.0, 4,9,4,0,12,41,0,2,12,2,129]\n",
    "X_array[1:12] = (X_array[1:12] - mu) / sigma\n",
    "result = np.dot(X_array, theta)\n",
    "\n",
    "print(\"\\n\")\n",
    "print(\"El precio : \"+ str( result ) + \" Euros.\")\n",
    "\n",
    "X_array2 = [1.0, 4,6,1,1,2,9,2,2,11,2,8]\n",
    "X_array2[1:12] = (X_array2[1:12] - mu) / sigma\n",
    "result2 = np.dot(X_array2, theta)\n",
    "\n",
    "print(\"El precio : \"+ str( result2 ) + \" Euros.\")\n",
    "# 1774.401179747277\n",
    "# 777.200316957715"
   ]
  },
  {
   "cell_type": "code",
   "execution_count": 56,
   "metadata": {},
   "outputs": [],
   "source": [
    "X_array = [1.0, 4,9,4,0,12,41,0,2,12,2,129]\n",
    "X_array[1:12] = (X_array[1:12] - mu) / sigma"
   ]
  },
  {
   "cell_type": "code",
   "execution_count": 57,
   "metadata": {},
   "outputs": [
    {
     "data": {
      "text/plain": [
       "[0.03348063894039875,\n",
       " -1.182420282426446,\n",
       " 1.8854089953761948,\n",
       " -0.910239591776632,\n",
       " 1.0125660111780252,\n",
       " 0.4917535986146712,\n",
       " -0.8000353369039247,\n",
       " -0.6587468732701464,\n",
       " -0.40497811537340783,\n",
       " -0.2606186599960848,\n",
       " 1.745737920187608]"
      ]
     },
     "execution_count": 57,
     "metadata": {},
     "output_type": "execute_result"
    }
   ],
   "source": [
    "X_array[1:12]"
   ]
  },
  {
   "cell_type": "markdown",
   "metadata": {},
   "source": [
    "<a id=\"section7\"></a>\n",
    "### 2.3 Ecuacion de la Normal\n",
    "\n",
    "Una manera de calcular rapidamente el modelo de una regresion lineal es:\n",
    "\n",
    "$$ \\theta = \\left( X^T X\\right)^{-1} X^T\\vec{y}$$\n",
    "\n",
    "Utilizando esta formula no requiere que se escale ninguna caracteristica, y se obtendra una solucion exacta con un solo calculo: no hay “bucles de convergencia” como en el descenso por el gradiente. \n",
    "\n",
    "Primero se recargan los datos para garantizar que las variables no esten modificadas. Recordar que no es necesario escalar las caracteristicas, se debe agregar la columna de unos a la matriz $X$ para tener el termino de intersección($\\theta_0$). "
   ]
  },
  {
   "cell_type": "code",
   "execution_count": 58,
   "metadata": {},
   "outputs": [],
   "source": [
    "# Cargar datos\n",
    "data = np.loadtxt( os.path.join(\"laptop_price_adapted.csv\"), skiprows=1, delimiter = ',')\n",
    "\n",
    "X = data[:, :11]\n",
    "y = data[:, 11]\n",
    "m = y.size\n",
    "X = np.concatenate([np.ones((m, 1)), X], axis=1)"
   ]
  },
  {
   "cell_type": "code",
   "execution_count": 59,
   "metadata": {},
   "outputs": [],
   "source": [
    "def normalEqn(X, y):\n",
    "  \n",
    "    theta = np.zeros(X.shape[1])\n",
    "    \n",
    "    theta = np.dot(np.dot(np.linalg.inv(np.dot(X.T,X)),X.T),y)\n",
    "    \n",
    "    return theta"
   ]
  },
  {
   "cell_type": "code",
   "execution_count": 60,
   "metadata": {},
   "outputs": [
    {
     "name": "stdout",
     "output_type": "stream",
     "text": [
      "Theta calculado a partir de la ecuación de la normal: [ 5.68447214e+02  2.88025210e+01 -3.27063805e-01  1.16641284e+02\n",
      "  3.92288854e+01  1.09339521e+01  1.08315026e+00 -5.74560739e+01\n",
      "  9.98127346e+00  1.28118284e+00 -1.96876198e+01  3.53135065e+00]\n",
      "El precio : 1774.401179747277 Euros.\n",
      "El precio : 777.200316957715 Euros.\n"
     ]
    }
   ],
   "source": [
    "# Calcula los parametros con la ecuación de la normal\n",
    "theta = normalEqn(X, y);\n",
    "\n",
    "# Muestra los resultados optenidos a partir de la aplicación de la ecuación de la normal\n",
    "print('Theta calculado a partir de la ecuación de la normal: {:s}'.format(str(theta)));\n",
    "\n",
    "\n",
    "# Estimar el precio para una casa de superficie de 1650 sq-ft y tres dormitorios\n",
    "\n",
    "X_array = [1.0, 4,9,4,0,12,41,0,2,12,2,129]\n",
    "result = np.dot(X_array, theta) \n",
    "print(\"El precio : \"+ str( result ) + \" Euros.\")\n",
    "\n",
    "X_array2 = [1.0, 4,6,1,1,2,9,2,2,11,2,8]\n",
    "result2 = np.dot(X_array2, theta) \n",
    "print(\"El precio : \"+ str( result2 ) + \" Euros.\")\n"
   ]
  }
 ],
 "metadata": {
  "kernelspec": {
   "display_name": "Python 3.9.12 ('base')",
   "language": "python",
   "name": "python3"
  },
  "language_info": {
   "codemirror_mode": {
    "name": "ipython",
    "version": 3
   },
   "file_extension": ".py",
   "mimetype": "text/x-python",
   "name": "python",
   "nbconvert_exporter": "python",
   "pygments_lexer": "ipython3",
   "version": "3.9.12"
  },
  "vscode": {
   "interpreter": {
    "hash": "5f1de7d2f8b2ea13c275b55a1a168baa6b4c6d64260a02c6ee9ee64f3ff538fa"
   }
  }
 },
 "nbformat": 4,
 "nbformat_minor": 2
}
