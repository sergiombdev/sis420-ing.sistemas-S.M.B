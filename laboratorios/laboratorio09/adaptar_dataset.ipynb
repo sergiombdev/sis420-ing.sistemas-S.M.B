{
 "cells": [
  {
   "cell_type": "code",
   "execution_count": 5,
   "metadata": {},
   "outputs": [],
   "source": [
    "import pandas as pd"
   ]
  },
  {
   "cell_type": "code",
   "execution_count": 6,
   "metadata": {},
   "outputs": [
    {
     "name": "stdout",
     "output_type": "stream",
     "text": [
      "   Company  Product  TypeName  Inches  ScreenResolution  Cpu  Ram  Memory  \\\n",
      "0        0        0         0       0                 0    0    0       0   \n",
      "1        0        1         0       0                 1    1    0       1   \n",
      "2        1        2         1       1                 2    2    0       2   \n",
      "3        0        0         0       2                 3    3    1       3   \n",
      "4        0        0         0       0                 0    4    0       2   \n",
      "\n",
      "   Gpu  OpSys  Weight  Price_euros  \n",
      "0    0      0       0      1339.69  \n",
      "1    1      0       1       898.94  \n",
      "2    2      1       2       575.00  \n",
      "3    3      0       3      2537.45  \n",
      "4    4      0       0      1803.60  \n"
     ]
    }
   ],
   "source": [
    "def csvAdapted(path, outPath, columns):\n",
    "    data = pd.read_csv(path, encoding='latin-1')\n",
    "\n",
    "    newDataSet = pd.DataFrame()\n",
    "    for name, convert in columns:\n",
    "        if convert:\n",
    "            value = list( data[name].unique() )\n",
    "            newDataSet[name] = data[name].map( dict( zip( value,  [i for i in range( len(value) ) ] ) ) )\n",
    "        else:\n",
    "            newDataSet[name] = data[name]\n",
    "            \n",
    "    newDataSet.to_csv(outPath, index=False)\n",
    "    print(newDataSet.head())\n",
    "\n",
    "csvAdapted(\"laptop_price.csv\", \"laptop_price_adapted.csv\", [ \n",
    "    [\"Company\", True],\n",
    "    [\"Product\", True],\n",
    "    [\"TypeName\", True],\n",
    "    [\"Inches\", True],\n",
    "    [\"ScreenResolution\", True],\n",
    "    [\"Cpu\", True],\n",
    "    [\"Ram\", True],\n",
    "    [\"Memory\", True],\n",
    "    [\"Gpu\", True],\n",
    "    [\"OpSys\", True],\n",
    "    [\"Weight\", True],\n",
    "    [\"Price_euros\", False],\n",
    "])"
   ]
  }
 ],
 "metadata": {
  "kernelspec": {
   "display_name": "Python 3.9.12 ('base')",
   "language": "python",
   "name": "python3"
  },
  "language_info": {
   "codemirror_mode": {
    "name": "ipython",
    "version": 3
   },
   "file_extension": ".py",
   "mimetype": "text/x-python",
   "name": "python",
   "nbconvert_exporter": "python",
   "pygments_lexer": "ipython3",
   "version": "3.9.12"
  },
  "orig_nbformat": 4,
  "vscode": {
   "interpreter": {
    "hash": "5f1de7d2f8b2ea13c275b55a1a168baa6b4c6d64260a02c6ee9ee64f3ff538fa"
   }
  }
 },
 "nbformat": 4,
 "nbformat_minor": 2
}
