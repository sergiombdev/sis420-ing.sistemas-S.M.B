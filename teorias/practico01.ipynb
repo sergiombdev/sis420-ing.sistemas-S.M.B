{
 "cells": [
  {
   "cell_type": "code",
   "execution_count": null,
   "metadata": {},
   "outputs": [],
   "source": [
    "# Alumno: Menodoza Benito Sergio\n",
    "# Carrera: Ingenieria de Sistemas\n",
    "# Grupo: 1\n",
    "\n",
    "# ejemplos de listas o diccionarios del how-to-code-in-python"
   ]
  },
  {
   "cell_type": "code",
   "execution_count": 2,
   "metadata": {},
   "outputs": [
    {
     "name": "stdout",
     "output_type": "stream",
     "text": [
      "['shark', 'cuttlefish', 'squid', 'mantis ship', 'anemone']\n"
     ]
    }
   ],
   "source": [
    "sea_creatures = ['shark','cuttlefish', 'squid', 'mantis ship', 'anemone']\n",
    "print(sea_creatures)"
   ]
  },
  {
   "cell_type": "code",
   "execution_count": 3,
   "metadata": {},
   "outputs": [
    {
     "name": "stdout",
     "output_type": "stream",
     "text": [
      "cuttlefish\n"
     ]
    }
   ],
   "source": [
    "print(sea_creatures[1])"
   ]
  },
  {
   "cell_type": "code",
   "execution_count": 7,
   "metadata": {},
   "outputs": [
    {
     "name": "stdout",
     "output_type": "stream",
     "text": [
      "squid\n"
     ]
    }
   ],
   "source": [
    "print(sea_creatures[-3])"
   ]
  },
  {
   "cell_type": "code",
   "execution_count": 8,
   "metadata": {},
   "outputs": [
    {
     "name": "stdout",
     "output_type": "stream",
     "text": [
      "Sammy is a shark\n"
     ]
    }
   ],
   "source": [
    "print('Sammy is a '+sea_creatures[0])"
   ]
  },
  {
   "cell_type": "code",
   "execution_count": 10,
   "metadata": {},
   "outputs": [
    {
     "name": "stdout",
     "output_type": "stream",
     "text": [
      "['shark', 'octopus', 'squid', 'mantis ship', 'anemone']\n"
     ]
    }
   ],
   "source": [
    "sea_creatures[1] = 'octopus'\n",
    "print(sea_creatures)"
   ]
  },
  {
   "cell_type": "code",
   "execution_count": 11,
   "metadata": {},
   "outputs": [
    {
     "name": "stdout",
     "output_type": "stream",
     "text": [
      "['octopus', 'squid', 'mantis ship']\n"
     ]
    }
   ],
   "source": [
    "print(sea_creatures[1:4])"
   ]
  },
  {
   "cell_type": "code",
   "execution_count": 12,
   "metadata": {},
   "outputs": [
    {
     "name": "stdout",
     "output_type": "stream",
     "text": [
      "['shark', 'octopus', 'squid']\n"
     ]
    }
   ],
   "source": [
    "print(sea_creatures[:3])"
   ]
  },
  {
   "cell_type": "code",
   "execution_count": 13,
   "metadata": {},
   "outputs": [
    {
     "name": "stdout",
     "output_type": "stream",
     "text": [
      "['squid', 'mantis ship', 'anemone']\n"
     ]
    }
   ],
   "source": [
    "print(sea_creatures[2:])"
   ]
  },
  {
   "cell_type": "code",
   "execution_count": 15,
   "metadata": {},
   "outputs": [
    {
     "name": "stdout",
     "output_type": "stream",
     "text": [
      "['octopus', 'squid']\n",
      "['squid', 'mantis ship', 'anemone']\n"
     ]
    }
   ],
   "source": [
    "print(sea_creatures[-4:-2])\n",
    "print(sea_creatures[-3:])"
   ]
  },
  {
   "cell_type": "code",
   "execution_count": 16,
   "metadata": {},
   "outputs": [
    {
     "name": "stdout",
     "output_type": "stream",
     "text": [
      "[1, 3, 5, 7, 9]\n"
     ]
    }
   ],
   "source": [
    "numbers = [0, 1, 2, 3, 4, 5, 6, 7, 8, 9, 10, 11, 12]\n",
    "print(numbers[1:11:2])"
   ]
  },
  {
   "cell_type": "code",
   "execution_count": 17,
   "metadata": {},
   "outputs": [
    {
     "name": "stdout",
     "output_type": "stream",
     "text": [
      "[0, 3, 6, 9, 12]\n"
     ]
    }
   ],
   "source": [
    "print(numbers[::3])"
   ]
  },
  {
   "cell_type": "code",
   "execution_count": 18,
   "metadata": {},
   "outputs": [
    {
     "name": "stdout",
     "output_type": "stream",
     "text": [
      "['shark', 'octopus', 'blobfish', 'mantis shrimp', 'anemone', 'Pacific', 'Atlantic', 'Indian', 'Southern', 'Arctic']\n"
     ]
    }
   ],
   "source": [
    "sea_creatures = ['shark', 'octopus', 'blobfish', 'mantis shrimp', 'anemone']\n",
    "oceans = ['Pacific', 'Atlantic', 'Indian', 'Southern','Arctic']\n",
    "print(sea_creatures + oceans)"
   ]
  },
  {
   "cell_type": "code",
   "execution_count": 19,
   "metadata": {},
   "outputs": [
    {
     "name": "stdout",
     "output_type": "stream",
     "text": [
      "['shark', 'octopus', 'blobfish', 'mantis shrimp', 'anemone', 'yeti crab']\n"
     ]
    }
   ],
   "source": [
    "sea_creatures = sea_creatures + ['yeti crab']\n",
    "print (sea_creatures)"
   ]
  },
  {
   "cell_type": "code",
   "execution_count": 20,
   "metadata": {},
   "outputs": [
    {
     "name": "stdout",
     "output_type": "stream",
     "text": [
      "['shark', 'octopus', 'blobfish', 'mantis shrimp', 'anemone', 'yeti crab', 'shark', 'octopus', 'blobfish', 'mantis shrimp', 'anemone', 'yeti crab']\n",
      "['Pacific', 'Atlantic', 'Indian', 'Southern', 'Arctic', 'Pacific', 'Atlantic', 'Indian', 'Southern', 'Arctic', 'Pacific', 'Atlantic', 'Indian', 'Southern', 'Arctic']\n"
     ]
    }
   ],
   "source": [
    "print(sea_creatures * 2)\n",
    "print(oceans * 3)"
   ]
  },
  {
   "cell_type": "code",
   "execution_count": 21,
   "metadata": {},
   "outputs": [
    {
     "name": "stdout",
     "output_type": "stream",
     "text": [
      "['shark', 'octopus', 'blobfish', 'mantis shrimp', 'anemone', 'yeti crab', 'fish']\n",
      "['shark', 'octopus', 'blobfish', 'mantis shrimp', 'anemone', 'yeti crab', 'fish', 'fish']\n",
      "['shark', 'octopus', 'blobfish', 'mantis shrimp', 'anemone', 'yeti crab', 'fish', 'fish', 'fish']\n"
     ]
    }
   ],
   "source": [
    "for x in range(1,4):\n",
    "    sea_creatures += ['fish']\n",
    "    print(sea_creatures)"
   ]
  },
  {
   "cell_type": "code",
   "execution_count": 50,
   "metadata": {},
   "outputs": [
    {
     "name": "stdout",
     "output_type": "stream",
     "text": [
      "['shark', 'shark']\n",
      "['shark', 'shark', 'shark', 'shark']\n",
      "['shark', 'shark', 'shark', 'shark', 'shark', 'shark', 'shark', 'shark']\n"
     ]
    }
   ],
   "source": [
    "sharks = ['shark']\n",
    "def new_func(sharks):\n",
    "    sharks *= 2\n",
    "    print(sharks)\n",
    "\n",
    "for x in range(1,4):\n",
    "    new_func(sharks)"
   ]
  },
  {
   "cell_type": "code",
   "execution_count": 24,
   "metadata": {},
   "outputs": [
    {
     "name": "stdout",
     "output_type": "stream",
     "text": [
      "['shark', 'blobfish', 'mantis shrimp', 'anemone', 'yeti crab']\n"
     ]
    }
   ],
   "source": [
    "sea_creatures =['shark', 'octopus', 'blobfish', 'mantis shrimp', 'anemone', 'yeti crab']\n",
    "del sea_creatures[1]\n",
    "print(sea_creatures)"
   ]
  },
  {
   "cell_type": "code",
   "execution_count": 25,
   "metadata": {},
   "outputs": [
    {
     "name": "stdout",
     "output_type": "stream",
     "text": [
      "['shark', 'anemone', 'yeti crab']\n"
     ]
    }
   ],
   "source": [
    "sea_creatures =['shark', 'octopus', 'blobfish', 'mantis shrimp', 'anemone', 'yeti crab']\n",
    "del sea_creatures[1:4]\n",
    "print(sea_creatures)"
   ]
  },
  {
   "cell_type": "code",
   "execution_count": 26,
   "metadata": {},
   "outputs": [
    {
     "name": "stdout",
     "output_type": "stream",
     "text": [
      "Sammy\n",
      "shark\n"
     ]
    }
   ],
   "source": [
    "sea_names = [['shark', 'octopus', 'squid', 'mantis shrimp'],['Sammy', 'Jesse', 'Drew', 'Jamie']]\n",
    "print(sea_names[1][0])\n",
    "print(sea_names[0][0])"
   ]
  },
  {
   "cell_type": "code",
   "execution_count": 27,
   "metadata": {},
   "outputs": [],
   "source": [
    "sea_names[0][0] = 'shark'\n",
    "sea_names[0][1] = 'octopus'\n",
    "sea_names[0][2] = 'squid'\n",
    "sea_names[0][3] = 'mantis shrimp'\n",
    "sea_names[1][0] = 'Sammy'\n",
    "sea_names[1][1] = 'Jesse'\n",
    "sea_names[1][2] = 'Drew'\n",
    "sea_names[1][3] = 'Jamie'\n"
   ]
  },
  {
   "cell_type": "markdown",
   "metadata": {},
   "source": []
  },
  {
   "cell_type": "markdown",
   "metadata": {},
   "source": [
    "Metodos de las listas\n"
   ]
  },
  {
   "cell_type": "code",
   "execution_count": 28,
   "metadata": {},
   "outputs": [
    {
     "name": "stdout",
     "output_type": "stream",
     "text": [
      "['barracuda', 'cod', 'devil ray', 'eel', 'flounder']\n"
     ]
    }
   ],
   "source": [
    "fish = ['barracuda','cod','devil ray','eel']\n",
    "fish.append('flounder')\n",
    "print(fish)"
   ]
  },
  {
   "cell_type": "code",
   "execution_count": 29,
   "metadata": {},
   "outputs": [
    {
     "name": "stdout",
     "output_type": "stream",
     "text": [
      "['anchovy', 'barracuda', 'cod', 'devil ray', 'eel', 'flounder']\n"
     ]
    }
   ],
   "source": [
    "fish.insert(0,'anchovy')\n",
    "print(fish)"
   ]
  },
  {
   "cell_type": "code",
   "execution_count": 30,
   "metadata": {},
   "outputs": [
    {
     "name": "stdout",
     "output_type": "stream",
     "text": [
      "['anchovy', 'barracuda', 'cod', 'devil ray', 'eel', 'flounder', 'goby', 'herring', 'ide', 'kissing gourami']\n"
     ]
    }
   ],
   "source": [
    "more_fish = ['goby','herring','ide','kissing gourami']\n",
    "fish.extend(more_fish)\n",
    "print(fish)"
   ]
  },
  {
   "cell_type": "code",
   "execution_count": 31,
   "metadata": {},
   "outputs": [
    {
     "name": "stdout",
     "output_type": "stream",
     "text": [
      "['anchovy', 'barracuda', 'cod', 'devil ray', 'eel', 'flounder', 'goby', 'herring', 'ide']\n"
     ]
    }
   ],
   "source": [
    "fish.remove('kissing gourami')\n",
    "print(fish)"
   ]
  },
  {
   "cell_type": "code",
   "execution_count": 32,
   "metadata": {},
   "outputs": [
    {
     "name": "stdout",
     "output_type": "stream",
     "text": [
      "devil ray\n",
      "['anchovy', 'barracuda', 'cod', 'eel', 'flounder', 'goby', 'herring', 'ide']\n"
     ]
    }
   ],
   "source": [
    "print(fish.pop(3))\n",
    "print(fish)"
   ]
  },
  {
   "cell_type": "code",
   "execution_count": 33,
   "metadata": {},
   "outputs": [
    {
     "name": "stdout",
     "output_type": "stream",
     "text": [
      "['anchovy', 'barracuda', 'cod', 'eel', 'flounder', 'goby', 'herring', 'ide']\n",
      "6\n"
     ]
    }
   ],
   "source": [
    "print(fish)\n",
    "print(fish.index('herring'))"
   ]
  },
  {
   "cell_type": "code",
   "execution_count": 34,
   "metadata": {},
   "outputs": [
    {
     "name": "stdout",
     "output_type": "stream",
     "text": [
      "['anchovy', 'barracuda', 'cod', 'eel', 'flounder', 'goby', 'herring', 'ide']\n"
     ]
    }
   ],
   "source": [
    "fish_2 = fish.copy()\n",
    "print(fish_2)"
   ]
  },
  {
   "cell_type": "code",
   "execution_count": 35,
   "metadata": {},
   "outputs": [
    {
     "name": "stdout",
     "output_type": "stream",
     "text": [
      "['ide', 'herring', 'goby', 'flounder', 'eel', 'cod', 'barracuda', 'anchovy']\n"
     ]
    }
   ],
   "source": [
    "fish.reverse()\n",
    "print(fish)"
   ]
  },
  {
   "cell_type": "code",
   "execution_count": 36,
   "metadata": {},
   "outputs": [
    {
     "name": "stdout",
     "output_type": "stream",
     "text": [
      "1\n"
     ]
    }
   ],
   "source": [
    "print(fish.count('goby'))"
   ]
  },
  {
   "cell_type": "code",
   "execution_count": 37,
   "metadata": {},
   "outputs": [
    {
     "name": "stdout",
     "output_type": "stream",
     "text": [
      "3\n"
     ]
    }
   ],
   "source": [
    "fish_ages = [1,2,4,3,2,1,1,2]\n",
    "print(fish_ages.count(1))"
   ]
  },
  {
   "cell_type": "code",
   "execution_count": 38,
   "metadata": {},
   "outputs": [
    {
     "name": "stdout",
     "output_type": "stream",
     "text": [
      "[1, 1, 1, 2, 2, 2, 3, 4]\n"
     ]
    }
   ],
   "source": [
    "fish_ages.sort()\n",
    "print(fish_ages)"
   ]
  },
  {
   "cell_type": "code",
   "execution_count": 39,
   "metadata": {},
   "outputs": [
    {
     "name": "stdout",
     "output_type": "stream",
     "text": [
      "[]\n"
     ]
    }
   ],
   "source": [
    "fish.clear()\n",
    "print(fish)"
   ]
  },
  {
   "cell_type": "markdown",
   "metadata": {},
   "source": [
    "Understanding List Comprehensions"
   ]
  },
  {
   "cell_type": "code",
   "execution_count": 40,
   "metadata": {},
   "outputs": [
    {
     "name": "stdout",
     "output_type": "stream",
     "text": [
      "['s', 'h', 'a', 'r', 'k']\n"
     ]
    }
   ],
   "source": [
    "shark_letters = [letter for letter in 'shark']\n",
    "print(shark_letters)"
   ]
  },
  {
   "cell_type": "code",
   "execution_count": 41,
   "metadata": {},
   "outputs": [
    {
     "name": "stdout",
     "output_type": "stream",
     "text": [
      "['s', 'h', 'a', 'r', 'k']\n"
     ]
    }
   ],
   "source": [
    "shark_letters = []\n",
    "for letter in 'shark':\n",
    "    shark_letters.append(letter)\n",
    "print(shark_letters)"
   ]
  },
  {
   "cell_type": "code",
   "execution_count": 42,
   "metadata": {},
   "outputs": [
    {
     "name": "stdout",
     "output_type": "stream",
     "text": [
      "['blowfish', 'clownfish', 'catfish']\n"
     ]
    }
   ],
   "source": [
    "fish_tuple = ('blowfish', 'clownfish', 'catfish', 'octopus')\n",
    "fish_list = [fish for fish in fish_tuple if fish != 'octopus']\n",
    "print(fish_list)"
   ]
  },
  {
   "cell_type": "code",
   "execution_count": 43,
   "metadata": {},
   "outputs": [
    {
     "name": "stdout",
     "output_type": "stream",
     "text": [
      "[0, 4, 16, 36, 64]\n"
     ]
    }
   ],
   "source": [
    "number_list = [x ** 2 for x in range(10) if x % 2 == 0]\n",
    "print(number_list)"
   ]
  },
  {
   "cell_type": "code",
   "execution_count": 44,
   "metadata": {},
   "outputs": [
    {
     "name": "stdout",
     "output_type": "stream",
     "text": [
      "[0, 1, 2, 3, 4, 5, 6, 7, 8, 9]\n"
     ]
    }
   ],
   "source": [
    "number_list = [x for x in range(10)]\n",
    "print(number_list)"
   ]
  },
  {
   "cell_type": "code",
   "execution_count": 45,
   "metadata": {},
   "outputs": [
    {
     "name": "stdout",
     "output_type": "stream",
     "text": [
      "[0, 2, 4, 6, 8]\n"
     ]
    }
   ],
   "source": [
    "number_list = [x for x in range(10) if x % 2 == 0]\n",
    "print(number_list)"
   ]
  },
  {
   "cell_type": "code",
   "execution_count": 46,
   "metadata": {},
   "outputs": [
    {
     "name": "stdout",
     "output_type": "stream",
     "text": [
      "[0, 4, 16, 36, 64]\n"
     ]
    }
   ],
   "source": [
    "number_list = [x ** 2 for x in range(10) if x % 2 == 0]\n",
    "print(number_list)"
   ]
  },
  {
   "cell_type": "code",
   "execution_count": 47,
   "metadata": {},
   "outputs": [
    {
     "name": "stdout",
     "output_type": "stream",
     "text": [
      "[0, 15, 30, 45, 60, 75, 90]\n"
     ]
    }
   ],
   "source": [
    "number_list = [x for x in range(100) if x % 3 == 0 if x % 5 == 0]\n",
    "print(number_list)"
   ]
  },
  {
   "cell_type": "code",
   "execution_count": 48,
   "metadata": {},
   "outputs": [
    {
     "name": "stdout",
     "output_type": "stream",
     "text": [
      "[40, 80, 120, 80, 160, 240, 120, 240, 360]\n"
     ]
    }
   ],
   "source": [
    "my_list = []\n",
    "for x in [20, 40, 60]:\n",
    "    for y in [2, 4, 6]:\n",
    "        my_list.append(x * y)\n",
    "print(my_list)"
   ]
  },
  {
   "cell_type": "code",
   "execution_count": 49,
   "metadata": {},
   "outputs": [
    {
     "name": "stdout",
     "output_type": "stream",
     "text": [
      "[40, 80, 120, 80, 160, 240, 120, 240, 360]\n"
     ]
    }
   ],
   "source": [
    "my_list = [x * y for x in [20, 40, 60] for y in [2, 4, 6]]\n",
    "print(my_list)"
   ]
  }
 ],
 "metadata": {
  "kernelspec": {
   "display_name": "Python 3 (ipykernel)",
   "language": "python",
   "name": "python3"
  },
  "language_info": {
   "codemirror_mode": {
    "name": "ipython",
    "version": 3
   },
   "file_extension": ".py",
   "mimetype": "text/x-python",
   "name": "python",
   "nbconvert_exporter": "python",
   "pygments_lexer": "ipython3",
   "version": "3.9.12"
  },
  "vscode": {
   "interpreter": {
    "hash": "5f1de7d2f8b2ea13c275b55a1a168baa6b4c6d64260a02c6ee9ee64f3ff538fa"
   }
  }
 },
 "nbformat": 4,
 "nbformat_minor": 2
}
